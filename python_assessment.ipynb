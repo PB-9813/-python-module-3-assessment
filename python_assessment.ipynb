{
  "nbformat": 4,
  "nbformat_minor": 0,
  "metadata": {
    "colab": {
      "provenance": []
    },
    "kernelspec": {
      "name": "python3",
      "display_name": "Python 3"
    },
    "language_info": {
      "name": "python"
    }
  },
  "cells": [
    {
      "cell_type": "markdown",
      "source": [],
      "metadata": {
        "id": "-UFu05_7_MVM"
      }
    },
    {
      "cell_type": "code",
      "execution_count": null,
      "metadata": {
        "id": "7P6ooh6s9vWp"
      },
      "outputs": [],
      "source": [
        "1.what is python ?\n",
        "dxjhjh snjnknk jnkjk\n",
        "\n",
        "\n",
        "\n"
      ]
    },
    {
      "cell_type": "markdown",
      "source": [
        "#Python questions module 3\n",
        "\n"
      ],
      "metadata": {
        "id": "gyFST5KH-ksX"
      }
    },
    {
      "cell_type": "markdown",
      "source": [],
      "metadata": {
        "id": "R4GcqG-7_w9s"
      }
    }
  ]
}